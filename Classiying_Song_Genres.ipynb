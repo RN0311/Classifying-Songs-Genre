{
  "nbformat": 4,
  "nbformat_minor": 0,
  "metadata": {
    "colab": {
      "name": "Classiying Song Genres.ipynb",
      "provenance": [],
      "collapsed_sections": [],
      "authorship_tag": "ABX9TyP0G5BFtT2vMsXuKFN08UJ5",
      "include_colab_link": true
    },
    "kernelspec": {
      "name": "python3",
      "display_name": "Python 3"
    },
    "language_info": {
      "name": "python"
    }
  },
  "cells": [
    {
      "cell_type": "markdown",
      "metadata": {
        "id": "view-in-github",
        "colab_type": "text"
      },
      "source": [
        "<a href=\"https://colab.research.google.com/github/RN0311/Classifying-Songs-Genre/blob/main/Classiying_Song_Genres.ipynb\" target=\"_parent\"><img src=\"https://colab.research.google.com/assets/colab-badge.svg\" alt=\"Open In Colab\"/></a>"
      ]
    },
    {
      "cell_type": "markdown",
      "source": [
        "# Step1: \n",
        "## **Inspiration**\n",
        "### *Many streaming services have looked into means of categorizing music to allow for personalized recommendations. One method involves direct analysis of the raw audio information in a given song, scoring the raw data on a variety of metrics.Let's look through a dataset and classify songs as being either 'Hip-Hop' or 'Rock' - all without listening to a single one ourselves. In doing so, we will learn how to clean our data, do some exploratory data visualization, and use feature reduction towards the goal of feeding our data through some simple machine learning algorithms, such as decision trees and logistic regression*"
      ],
      "metadata": {
        "id": "nYvdBLbUsuzW"
      }
    },
    {
      "cell_type": "code",
      "source": [
        "#Importing the libraries\n",
        "import pandas as pd\n",
        "\n",
        "# This is just to make plots appear in the notebook\n",
        "%matplotlib inline\n",
        "\n",
        "# Import our plotting module, and PCA class\n",
        "import matplotlib.pyplot as plt\n",
        "from sklearn.decomposition import PCA\n",
        "\n",
        "# Import numpy\n",
        "import numpy as np\n",
        "\n",
        "# Import train_test_split function and Decision tree classifier\n",
        "from sklearn.model_selection import train_test_split\n",
        "from sklearn.tree import DecisionTreeClassifier\n",
        "\n",
        "# Import LogisticRegression\n",
        "from sklearn.linear_model import LogisticRegression\n",
        "\n"
      ],
      "metadata": {
        "id": "JQsrmn5JtQWB"
      },
      "execution_count": 21,
      "outputs": []
    },
    {
      "cell_type": "code",
      "source": [
        "# Read in track metadata with genre labels\n",
        "tracks = pd.read_csv('/content/fma-rock-vs-hiphop.csv')\n",
        "\n",
        "# Read in track metrics with the features\n",
        "echonest_metrics = pd.read_json('/content/echonest-metrics.json',precise_float=True)\n",
        "\n",
        "# Merge the relevant columns of tracks and echonest_metrics\n",
        "echo_tracks = echonest_metrics.merge(tracks[['genre_top', 'track_id']], on='track_id')\n",
        "\n",
        "# Inspect the resultant dataframe\n",
        "echo_tracks.info()"
      ],
      "metadata": {
        "colab": {
          "base_uri": "https://localhost:8080/"
        },
        "id": "vrtHitnetYs3",
        "outputId": "47563309-abc1-42c7-81b9-c8d985d5471c"
      },
      "execution_count": 22,
      "outputs": [
        {
          "output_type": "stream",
          "name": "stdout",
          "text": [
            "<class 'pandas.core.frame.DataFrame'>\n",
            "Int64Index: 4802 entries, 0 to 4801\n",
            "Data columns (total 10 columns):\n",
            " #   Column            Non-Null Count  Dtype  \n",
            "---  ------            --------------  -----  \n",
            " 0   track_id          4802 non-null   int64  \n",
            " 1   acousticness      4802 non-null   float64\n",
            " 2   danceability      4802 non-null   float64\n",
            " 3   energy            4802 non-null   float64\n",
            " 4   instrumentalness  4802 non-null   float64\n",
            " 5   liveness          4802 non-null   float64\n",
            " 6   speechiness       4802 non-null   float64\n",
            " 7   tempo             4802 non-null   float64\n",
            " 8   valence           4802 non-null   float64\n",
            " 9   genre_top         4802 non-null   object \n",
            "dtypes: float64(8), int64(1), object(1)\n",
            "memory usage: 412.7+ KB\n"
          ]
        }
      ]
    },
    {
      "cell_type": "markdown",
      "source": [
        "# Step2: \n",
        "## ***Finding pairwise relationships between continuous variabless***\n",
        "\n",
        "### Since we want to avoid using variables that have strong correlations with each other -- hence avoiding feature redundancy / finding pairwise relationship:\n",
        "### *1. To keep the model simple and improve interpretability (with many features, we run the risk of overfitting).*\n",
        "### *2. When the dataset is very large, using fewer features can drastically speed up our computation time.*"
      ],
      "metadata": {
        "id": "VPLXUv10xXoK"
      }
    },
    {
      "cell_type": "code",
      "source": [
        "# Create a correlation matrix\n",
        "corr_metrics = echo_tracks.corr()\n",
        "corr_metrics.style.background_gradient()"
      ],
      "metadata": {
        "colab": {
          "base_uri": "https://localhost:8080/",
          "height": 332
        },
        "id": "R9LN87ZOxQFK",
        "outputId": "4f3f0dd0-d1a0-4392-9be9-216e0c168ed0"
      },
      "execution_count": 23,
      "outputs": [
        {
          "output_type": "execute_result",
          "data": {
            "text/plain": [
              "<pandas.io.formats.style.Styler at 0x7f6b2af6f4d0>"
            ],
            "text/html": [
              "<style type=\"text/css\">\n",
              "#T_06983_row0_col0, #T_06983_row1_col1, #T_06983_row2_col2, #T_06983_row3_col3, #T_06983_row4_col4, #T_06983_row5_col5, #T_06983_row6_col6, #T_06983_row7_col7, #T_06983_row8_col8 {\n",
              "  background-color: #023858;\n",
              "  color: #f1f1f1;\n",
              "}\n",
              "#T_06983_row0_col1, #T_06983_row1_col0, #T_06983_row1_col3, #T_06983_row2_col5, #T_06983_row2_col7, #T_06983_row4_col2, #T_06983_row4_col6, #T_06983_row4_col8, #T_06983_row6_col4 {\n",
              "  background-color: #fff7fb;\n",
              "  color: #000000;\n",
              "}\n",
              "#T_06983_row0_col2 {\n",
              "  background-color: #d2d2e7;\n",
              "  color: #000000;\n",
              "}\n",
              "#T_06983_row0_col3 {\n",
              "  background-color: #b5c4df;\n",
              "  color: #000000;\n",
              "}\n",
              "#T_06983_row0_col4 {\n",
              "  background-color: #f5eef6;\n",
              "  color: #000000;\n",
              "}\n",
              "#T_06983_row0_col5 {\n",
              "  background-color: #e9e5f1;\n",
              "  color: #000000;\n",
              "}\n",
              "#T_06983_row0_col6, #T_06983_row8_col3 {\n",
              "  background-color: #d1d2e6;\n",
              "  color: #000000;\n",
              "}\n",
              "#T_06983_row0_col7, #T_06983_row1_col7 {\n",
              "  background-color: #e1dfed;\n",
              "  color: #000000;\n",
              "}\n",
              "#T_06983_row0_col8, #T_06983_row3_col6 {\n",
              "  background-color: #dedcec;\n",
              "  color: #000000;\n",
              "}\n",
              "#T_06983_row1_col2 {\n",
              "  background-color: #e0dded;\n",
              "  color: #000000;\n",
              "}\n",
              "#T_06983_row1_col4, #T_06983_row4_col1 {\n",
              "  background-color: #97b7d7;\n",
              "  color: #000000;\n",
              "}\n",
              "#T_06983_row1_col5, #T_06983_row2_col4 {\n",
              "  background-color: #f3edf5;\n",
              "  color: #000000;\n",
              "}\n",
              "#T_06983_row1_col6, #T_06983_row6_col1 {\n",
              "  background-color: #b8c6e0;\n",
              "  color: #000000;\n",
              "}\n",
              "#T_06983_row1_col8 {\n",
              "  background-color: #e2dfee;\n",
              "  color: #000000;\n",
              "}\n",
              "#T_06983_row2_col0, #T_06983_row5_col0, #T_06983_row5_col3 {\n",
              "  background-color: #bdc8e1;\n",
              "  color: #000000;\n",
              "}\n",
              "#T_06983_row2_col1, #T_06983_row6_col0, #T_06983_row7_col0, #T_06983_row7_col1 {\n",
              "  background-color: #d0d1e6;\n",
              "  color: #000000;\n",
              "}\n",
              "#T_06983_row2_col3 {\n",
              "  background-color: #fbf3f9;\n",
              "  color: #000000;\n",
              "}\n",
              "#T_06983_row2_col6 {\n",
              "  background-color: #80aed2;\n",
              "  color: #f1f1f1;\n",
              "}\n",
              "#T_06983_row2_col8 {\n",
              "  background-color: #529bc7;\n",
              "  color: #f1f1f1;\n",
              "}\n",
              "#T_06983_row3_col0, #T_06983_row7_col3 {\n",
              "  background-color: #a7bddb;\n",
              "  color: #000000;\n",
              "}\n",
              "#T_06983_row3_col1 {\n",
              "  background-color: #f5eff6;\n",
              "  color: #000000;\n",
              "}\n",
              "#T_06983_row3_col2, #T_06983_row7_col2 {\n",
              "  background-color: #fef6fa;\n",
              "  color: #000000;\n",
              "}\n",
              "#T_06983_row3_col4 {\n",
              "  background-color: #c4cbe3;\n",
              "  color: #000000;\n",
              "}\n",
              "#T_06983_row3_col5, #T_06983_row5_col7 {\n",
              "  background-color: #dcdaeb;\n",
              "  color: #000000;\n",
              "}\n",
              "#T_06983_row3_col7 {\n",
              "  background-color: #adc1dd;\n",
              "  color: #000000;\n",
              "}\n",
              "#T_06983_row3_col8, #T_06983_row4_col7 {\n",
              "  background-color: #d9d8ea;\n",
              "  color: #000000;\n",
              "}\n",
              "#T_06983_row4_col0 {\n",
              "  background-color: #f4eef6;\n",
              "  color: #000000;\n",
              "}\n",
              "#T_06983_row4_col3 {\n",
              "  background-color: #d2d3e7;\n",
              "  color: #000000;\n",
              "}\n",
              "#T_06983_row4_col5 {\n",
              "  background-color: #fdf5fa;\n",
              "  color: #000000;\n",
              "}\n",
              "#T_06983_row5_col1 {\n",
              "  background-color: #ced0e6;\n",
              "  color: #000000;\n",
              "}\n",
              "#T_06983_row5_col2 {\n",
              "  background-color: #ede8f3;\n",
              "  color: #000000;\n",
              "}\n",
              "#T_06983_row5_col4, #T_06983_row6_col7 {\n",
              "  background-color: #dbdaeb;\n",
              "  color: #000000;\n",
              "}\n",
              "#T_06983_row5_col6 {\n",
              "  background-color: #c0c9e2;\n",
              "  color: #000000;\n",
              "}\n",
              "#T_06983_row5_col8 {\n",
              "  background-color: #e8e4f0;\n",
              "  color: #000000;\n",
              "}\n",
              "#T_06983_row6_col2 {\n",
              "  background-color: #93b5d6;\n",
              "  color: #000000;\n",
              "}\n",
              "#T_06983_row6_col3, #T_06983_row6_col5 {\n",
              "  background-color: #eae6f1;\n",
              "  color: #000000;\n",
              "}\n",
              "#T_06983_row6_col8 {\n",
              "  background-color: #bfc9e1;\n",
              "  color: #000000;\n",
              "}\n",
              "#T_06983_row7_col4 {\n",
              "  background-color: #c5cce3;\n",
              "  color: #000000;\n",
              "}\n",
              "#T_06983_row7_col5 {\n",
              "  background-color: #f0eaf4;\n",
              "  color: #000000;\n",
              "}\n",
              "#T_06983_row7_col6 {\n",
              "  background-color: #c8cde4;\n",
              "  color: #000000;\n",
              "}\n",
              "#T_06983_row7_col8 {\n",
              "  background-color: #d6d6e9;\n",
              "  color: #000000;\n",
              "}\n",
              "#T_06983_row8_col0 {\n",
              "  background-color: #c6cce3;\n",
              "  color: #000000;\n",
              "}\n",
              "#T_06983_row8_col1 {\n",
              "  background-color: #cdd0e5;\n",
              "  color: #000000;\n",
              "}\n",
              "#T_06983_row8_col2 {\n",
              "  background-color: #4c99c5;\n",
              "  color: #f1f1f1;\n",
              "}\n",
              "#T_06983_row8_col4 {\n",
              "  background-color: #efe9f3;\n",
              "  color: #000000;\n",
              "}\n",
              "#T_06983_row8_col5 {\n",
              "  background-color: #f7f0f7;\n",
              "  color: #000000;\n",
              "}\n",
              "#T_06983_row8_col6 {\n",
              "  background-color: #a5bddb;\n",
              "  color: #000000;\n",
              "}\n",
              "#T_06983_row8_col7 {\n",
              "  background-color: #d3d4e7;\n",
              "  color: #000000;\n",
              "}\n",
              "</style>\n",
              "<table id=\"T_06983_\" class=\"dataframe\">\n",
              "  <thead>\n",
              "    <tr>\n",
              "      <th class=\"blank level0\" >&nbsp;</th>\n",
              "      <th class=\"col_heading level0 col0\" >track_id</th>\n",
              "      <th class=\"col_heading level0 col1\" >acousticness</th>\n",
              "      <th class=\"col_heading level0 col2\" >danceability</th>\n",
              "      <th class=\"col_heading level0 col3\" >energy</th>\n",
              "      <th class=\"col_heading level0 col4\" >instrumentalness</th>\n",
              "      <th class=\"col_heading level0 col5\" >liveness</th>\n",
              "      <th class=\"col_heading level0 col6\" >speechiness</th>\n",
              "      <th class=\"col_heading level0 col7\" >tempo</th>\n",
              "      <th class=\"col_heading level0 col8\" >valence</th>\n",
              "    </tr>\n",
              "  </thead>\n",
              "  <tbody>\n",
              "    <tr>\n",
              "      <th id=\"T_06983_level0_row0\" class=\"row_heading level0 row0\" >track_id</th>\n",
              "      <td id=\"T_06983_row0_col0\" class=\"data row0 col0\" >1.000000</td>\n",
              "      <td id=\"T_06983_row0_col1\" class=\"data row0 col1\" >-0.372282</td>\n",
              "      <td id=\"T_06983_row0_col2\" class=\"data row0 col2\" >0.049454</td>\n",
              "      <td id=\"T_06983_row0_col3\" class=\"data row0 col3\" >0.140703</td>\n",
              "      <td id=\"T_06983_row0_col4\" class=\"data row0 col4\" >-0.275623</td>\n",
              "      <td id=\"T_06983_row0_col5\" class=\"data row0 col5\" >0.048231</td>\n",
              "      <td id=\"T_06983_row0_col6\" class=\"data row0 col6\" >-0.026995</td>\n",
              "      <td id=\"T_06983_row0_col7\" class=\"data row0 col7\" >-0.025392</td>\n",
              "      <td id=\"T_06983_row0_col8\" class=\"data row0 col8\" >0.010070</td>\n",
              "    </tr>\n",
              "    <tr>\n",
              "      <th id=\"T_06983_level0_row1\" class=\"row_heading level0 row1\" >acousticness</th>\n",
              "      <td id=\"T_06983_row1_col0\" class=\"data row1 col0\" >-0.372282</td>\n",
              "      <td id=\"T_06983_row1_col1\" class=\"data row1 col1\" >1.000000</td>\n",
              "      <td id=\"T_06983_row1_col2\" class=\"data row1 col2\" >-0.028954</td>\n",
              "      <td id=\"T_06983_row1_col3\" class=\"data row1 col3\" >-0.281619</td>\n",
              "      <td id=\"T_06983_row1_col4\" class=\"data row1 col4\" >0.194780</td>\n",
              "      <td id=\"T_06983_row1_col5\" class=\"data row1 col5\" >-0.019991</td>\n",
              "      <td id=\"T_06983_row1_col6\" class=\"data row1 col6\" >0.072204</td>\n",
              "      <td id=\"T_06983_row1_col7\" class=\"data row1 col7\" >-0.026310</td>\n",
              "      <td id=\"T_06983_row1_col8\" class=\"data row1 col8\" >-0.013841</td>\n",
              "    </tr>\n",
              "    <tr>\n",
              "      <th id=\"T_06983_level0_row2\" class=\"row_heading level0 row2\" >danceability</th>\n",
              "      <td id=\"T_06983_row2_col0\" class=\"data row2 col0\" >0.049454</td>\n",
              "      <td id=\"T_06983_row2_col1\" class=\"data row2 col1\" >-0.028954</td>\n",
              "      <td id=\"T_06983_row2_col2\" class=\"data row2 col2\" >1.000000</td>\n",
              "      <td id=\"T_06983_row2_col3\" class=\"data row2 col3\" >-0.242032</td>\n",
              "      <td id=\"T_06983_row2_col4\" class=\"data row2 col4\" >-0.255217</td>\n",
              "      <td id=\"T_06983_row2_col5\" class=\"data row2 col5\" >-0.106584</td>\n",
              "      <td id=\"T_06983_row2_col6\" class=\"data row2 col6\" >0.276206</td>\n",
              "      <td id=\"T_06983_row2_col7\" class=\"data row2 col7\" >-0.242089</td>\n",
              "      <td id=\"T_06983_row2_col8\" class=\"data row2 col8\" >0.473165</td>\n",
              "    </tr>\n",
              "    <tr>\n",
              "      <th id=\"T_06983_level0_row3\" class=\"row_heading level0 row3\" >energy</th>\n",
              "      <td id=\"T_06983_row3_col0\" class=\"data row3 col0\" >0.140703</td>\n",
              "      <td id=\"T_06983_row3_col1\" class=\"data row3 col1\" >-0.281619</td>\n",
              "      <td id=\"T_06983_row3_col2\" class=\"data row3 col2\" >-0.242032</td>\n",
              "      <td id=\"T_06983_row3_col3\" class=\"data row3 col3\" >1.000000</td>\n",
              "      <td id=\"T_06983_row3_col4\" class=\"data row3 col4\" >0.028238</td>\n",
              "      <td id=\"T_06983_row3_col5\" class=\"data row3 col5\" >0.113331</td>\n",
              "      <td id=\"T_06983_row3_col6\" class=\"data row3 col6\" >-0.109983</td>\n",
              "      <td id=\"T_06983_row3_col7\" class=\"data row3 col7\" >0.195227</td>\n",
              "      <td id=\"T_06983_row3_col8\" class=\"data row3 col8\" >0.038603</td>\n",
              "    </tr>\n",
              "    <tr>\n",
              "      <th id=\"T_06983_level0_row4\" class=\"row_heading level0 row4\" >instrumentalness</th>\n",
              "      <td id=\"T_06983_row4_col0\" class=\"data row4 col0\" >-0.275623</td>\n",
              "      <td id=\"T_06983_row4_col1\" class=\"data row4 col1\" >0.194780</td>\n",
              "      <td id=\"T_06983_row4_col2\" class=\"data row4 col2\" >-0.255217</td>\n",
              "      <td id=\"T_06983_row4_col3\" class=\"data row4 col3\" >0.028238</td>\n",
              "      <td id=\"T_06983_row4_col4\" class=\"data row4 col4\" >1.000000</td>\n",
              "      <td id=\"T_06983_row4_col5\" class=\"data row4 col5\" >-0.091022</td>\n",
              "      <td id=\"T_06983_row4_col6\" class=\"data row4 col6\" >-0.366762</td>\n",
              "      <td id=\"T_06983_row4_col7\" class=\"data row4 col7\" >0.022215</td>\n",
              "      <td id=\"T_06983_row4_col8\" class=\"data row4 col8\" >-0.219967</td>\n",
              "    </tr>\n",
              "    <tr>\n",
              "      <th id=\"T_06983_level0_row5\" class=\"row_heading level0 row5\" >liveness</th>\n",
              "      <td id=\"T_06983_row5_col0\" class=\"data row5 col0\" >0.048231</td>\n",
              "      <td id=\"T_06983_row5_col1\" class=\"data row5 col1\" >-0.019991</td>\n",
              "      <td id=\"T_06983_row5_col2\" class=\"data row5 col2\" >-0.106584</td>\n",
              "      <td id=\"T_06983_row5_col3\" class=\"data row5 col3\" >0.113331</td>\n",
              "      <td id=\"T_06983_row5_col4\" class=\"data row5 col4\" >-0.091022</td>\n",
              "      <td id=\"T_06983_row5_col5\" class=\"data row5 col5\" >1.000000</td>\n",
              "      <td id=\"T_06983_row5_col6\" class=\"data row5 col6\" >0.041173</td>\n",
              "      <td id=\"T_06983_row5_col7\" class=\"data row5 col7\" >0.002732</td>\n",
              "      <td id=\"T_06983_row5_col8\" class=\"data row5 col8\" >-0.045093</td>\n",
              "    </tr>\n",
              "    <tr>\n",
              "      <th id=\"T_06983_level0_row6\" class=\"row_heading level0 row6\" >speechiness</th>\n",
              "      <td id=\"T_06983_row6_col0\" class=\"data row6 col0\" >-0.026995</td>\n",
              "      <td id=\"T_06983_row6_col1\" class=\"data row6 col1\" >0.072204</td>\n",
              "      <td id=\"T_06983_row6_col2\" class=\"data row6 col2\" >0.276206</td>\n",
              "      <td id=\"T_06983_row6_col3\" class=\"data row6 col3\" >-0.109983</td>\n",
              "      <td id=\"T_06983_row6_col4\" class=\"data row6 col4\" >-0.366762</td>\n",
              "      <td id=\"T_06983_row6_col5\" class=\"data row6 col5\" >0.041173</td>\n",
              "      <td id=\"T_06983_row6_col6\" class=\"data row6 col6\" >1.000000</td>\n",
              "      <td id=\"T_06983_row6_col7\" class=\"data row6 col7\" >0.008241</td>\n",
              "      <td id=\"T_06983_row6_col8\" class=\"data row6 col8\" >0.149894</td>\n",
              "    </tr>\n",
              "    <tr>\n",
              "      <th id=\"T_06983_level0_row7\" class=\"row_heading level0 row7\" >tempo</th>\n",
              "      <td id=\"T_06983_row7_col0\" class=\"data row7 col0\" >-0.025392</td>\n",
              "      <td id=\"T_06983_row7_col1\" class=\"data row7 col1\" >-0.026310</td>\n",
              "      <td id=\"T_06983_row7_col2\" class=\"data row7 col2\" >-0.242089</td>\n",
              "      <td id=\"T_06983_row7_col3\" class=\"data row7 col3\" >0.195227</td>\n",
              "      <td id=\"T_06983_row7_col4\" class=\"data row7 col4\" >0.022215</td>\n",
              "      <td id=\"T_06983_row7_col5\" class=\"data row7 col5\" >0.002732</td>\n",
              "      <td id=\"T_06983_row7_col6\" class=\"data row7 col6\" >0.008241</td>\n",
              "      <td id=\"T_06983_row7_col7\" class=\"data row7 col7\" >1.000000</td>\n",
              "      <td id=\"T_06983_row7_col8\" class=\"data row7 col8\" >0.052221</td>\n",
              "    </tr>\n",
              "    <tr>\n",
              "      <th id=\"T_06983_level0_row8\" class=\"row_heading level0 row8\" >valence</th>\n",
              "      <td id=\"T_06983_row8_col0\" class=\"data row8 col0\" >0.010070</td>\n",
              "      <td id=\"T_06983_row8_col1\" class=\"data row8 col1\" >-0.013841</td>\n",
              "      <td id=\"T_06983_row8_col2\" class=\"data row8 col2\" >0.473165</td>\n",
              "      <td id=\"T_06983_row8_col3\" class=\"data row8 col3\" >0.038603</td>\n",
              "      <td id=\"T_06983_row8_col4\" class=\"data row8 col4\" >-0.219967</td>\n",
              "      <td id=\"T_06983_row8_col5\" class=\"data row8 col5\" >-0.045093</td>\n",
              "      <td id=\"T_06983_row8_col6\" class=\"data row8 col6\" >0.149894</td>\n",
              "      <td id=\"T_06983_row8_col7\" class=\"data row8 col7\" >0.052221</td>\n",
              "      <td id=\"T_06983_row8_col8\" class=\"data row8 col8\" >1.000000</td>\n",
              "    </tr>\n",
              "  </tbody>\n",
              "</table>\n"
            ]
          },
          "metadata": {},
          "execution_count": 23
        }
      ]
    },
    {
      "cell_type": "markdown",
      "source": [
        "# Step3:\n",
        "## **Normalizing the feature data**\n",
        "\n",
        "### *It can be particularly useful to simplify the models and use as few features as necessary to achieve the best result. Since we didn't find any particular strong correlations between our features, we can instead use a common approach to reduce the number of features called principal component analysis (PCA).*\n",
        "\n",
        "### *It is possible that the variance between genres can be explained by just a few features in the dataset. PCA rotates the data along the axis of highest variance, thus allowing us to determine the relative contribution of each feature of our data towards the variance between classes.*\n",
        "\n",
        "### *However, since PCA uses the absolute variance of a feature to rotate the data, a feature with a broader range of values will overpower and bias the algorithm relative to the other features. To avoid this, we must first normalize our data. There are a few methods to do this, but a common way is through standardization, such that all features have a mean = 0 and standard deviation = 1 (the resultant is a z-score).*"
      ],
      "metadata": {
        "id": "TyqFFFlKylQx"
      }
    },
    {
      "cell_type": "code",
      "source": [
        "# Define our features \n",
        "features = echo_tracks.drop(columns=['genre_top','track_id'])\n",
        "\n",
        "# Define our labels\n",
        "labels = echo_tracks['genre_top']\n",
        "\n",
        "# Import the StandardScaler\n",
        "from sklearn.preprocessing import StandardScaler\n",
        "\n",
        "# Scale the features and set the values to a new variable\n",
        "scaler = StandardScaler()\n",
        "scaled_train_features = scaler.fit_transform(features)"
      ],
      "metadata": {
        "id": "N-A_8GjCye5S"
      },
      "execution_count": 24,
      "outputs": []
    },
    {
      "cell_type": "markdown",
      "source": [
        "# Step4:\n",
        "## **Principle Component Analysis**\n",
        "\n",
        "### *After preprocessing the data, need to use PCA to determine by how much we can reduce the dimensionality of the data - can use scree-plots and cumulative explained ratio plots to find the number of components to use in further analyses.*\n",
        "\n",
        "### *Note: Scree-plots display the number of components against the variance explained by each component, sorted in descending order of variance. Scree-plots help us get a better sense of which components explain a sufficient amount of variance in our data. When using scree plots, an 'elbow' (a steep drop from one data point to the next) in the plot is typically used to decide on an appropriate cutoff*\n"
      ],
      "metadata": {
        "id": "jNd9a0eXzjKf"
      }
    },
    {
      "cell_type": "code",
      "source": [
        "# Get our explained variance ratios from PCA using all features\n",
        "pca = PCA()\n",
        "pca.fit(scaled_train_features)\n",
        "exp_variance = pca.explained_variance_ratio_\n",
        "\n",
        "# plot the explained variance using a barplot\n",
        "fig, ax = plt.subplots()\n",
        "ax.bar(range(pca.n_components_), exp_variance)\n",
        "ax.set_xlabel('Principal Component #')"
      ],
      "metadata": {
        "colab": {
          "base_uri": "https://localhost:8080/",
          "height": 296
        },
        "id": "2l_Sd1RCzgeL",
        "outputId": "cf85c46c-99d7-4100-f7aa-fdb916beacc2"
      },
      "execution_count": 25,
      "outputs": [
        {
          "output_type": "execute_result",
          "data": {
            "text/plain": [
              "Text(0.5, 0, 'Principal Component #')"
            ]
          },
          "metadata": {},
          "execution_count": 25
        },
        {
          "output_type": "display_data",
          "data": {
            "text/plain": [
              "<Figure size 432x288 with 1 Axes>"
            ],
            "image/png": "[encoded data removed]"
          },
          "metadata": {
            "needs_background": "light"
          }
        }
      ]
    },
    {
      "cell_type": "code",
      "source": [
        "plt.rcParams[\"figure.figsize\"] = (10,10)\n",
        "# Calculate the cumulative explained variance\n",
        "cum_exp_variance =np.cumsum(exp_variance)\n",
        "\n",
        "# Plot the cumulative explained variance and draw a dashed line at 0.85.\n",
        "fig, ax = plt.subplots()\n",
        "ax.plot(cum_exp_variance)\n",
        "ax.axhline(y=0.85, linestyle='--')\n",
        "\n",
        "# choose the n_components where about 85% of our variance can be explained\n",
        "n_components = 6\n",
        "\n",
        "# Perform PCA with the chosen number of components and project data onto components\n",
        "pca = PCA(n_components, random_state=10)\n",
        "pca.fit(scaled_train_features)\n",
        "pca_projection = pca.transform(scaled_train_features)"
      ],
      "metadata": {
        "colab": {
          "base_uri": "https://localhost:8080/",
          "height": 592
        },
        "id": "r5rN508Dzj4q",
        "outputId": "6c42e76d-755c-401b-b010-cabed8a757db"
      },
      "execution_count": 26,
      "outputs": [
        {
          "output_type": "display_data",
          "data": {
            "text/plain": [
              "<Figure size 720x720 with 1 Axes>"
            ],
            "image/png": "[encoded data removed]"
          },
          "metadata": {
            "needs_background": "light"
          }
        }
      ]
    },
    {
      "cell_type": "markdown",
      "source": [
        "## Step5:\n",
        "## **Train a decision tree to classify genre**\n",
        "\n",
        "### *Now we can use the lower dimensional PCA projection of the data to classify songs into genres. To do that, we first need to split our dataset into 'train' and 'test' subsets, where the 'train' subset will be used to train our model while the 'test' dataset allows for model performance validation.*\n",
        "\n",
        "### *Here, we will be using a simple algorithm known as a decision tree. Decision trees are rule-based classifiers that take in features and follow a 'tree structure' of binary decisions to ultimately classify a data point into one of two or more categories. In addition to being easy to both use and interpret, decision trees allow us to visualize the 'logic flowchart' that the model generates from the training data.*\n",
        "\n",
        "### *Here is an example of a decision tree that demonstrates the process by which an input image (in this case, of a shape) might be classified based on the number of sides it has and whether it is rotated.*\n",
        "\n"
      ],
      "metadata": {
        "id": "a-dZ1vPP0tu7"
      }
    },
    {
      "cell_type": "code",
      "source": [
        "%%html\n",
        "<iframe src=\"https://drive.google.com/file/d/1HDxHIVTym1LlAcuobwVc8KnCYWTQHnya/preview\" width=\"640\" height=\"480\" allow=\"autoplay\">\n",
        "</iframe>"
      ],
      "metadata": {
        "colab": {
          "base_uri": "https://localhost:8080/",
          "height": 504
        },
        "id": "EtXoaTeJ4DL3",
        "outputId": "3e97a98c-18db-4351-c257-fc6d1203056c"
      },
      "execution_count": 27,
      "outputs": [
        {
          "output_type": "display_data",
          "data": {
            "text/plain": [
              "<IPython.core.display.HTML object>"
            ],
            "text/html": [
              "<iframe src=\"https://drive.google.com/file/d/1HDxHIVTym1LlAcuobwVc8KnCYWTQHnya/preview\" width=\"640\" height=\"480\" allow=\"autoplay\">\n",
              "</iframe>"
            ]
          },
          "metadata": {}
        }
      ]
    },
    {
      "cell_type": "code",
      "source": [
        "# Import train_test_split function and Decision tree classifier\n",
        "from sklearn.model_selection import train_test_split\n",
        "from sklearn.tree import DecisionTreeClassifier\n",
        "\n",
        "# Split our data\n",
        "train_features, test_features, train_labels, test_labels = train_test_split(\n",
        "    pca_projection, labels, random_state=10)\n",
        "\n",
        "# Train our decision tree\n",
        "tree = DecisionTreeClassifier(random_state=10)\n",
        "tree.fit(train_features, train_labels)\n",
        "\n",
        "# Predict the labels for the test data\n",
        "pred_labels_tree = tree.predict(test_features)"
      ],
      "metadata": {
        "id": "wCT1tRNN0ZTB"
      },
      "execution_count": 28,
      "outputs": []
    },
    {
      "cell_type": "markdown",
      "source": [
        "# Step6:\n",
        "## Compare our decision tree to a logistic regression\n",
        "\n",
        "### *Although our tree's performance is decent, it's a bad idea to immediately assume that it's therefore the perfect tool for this job -- there's always the possibility of other models that will perform even better! It's always a worthwhile idea to at least test a few other algorithms and find the one that's best for our data.*\n",
        "\n",
        "### *Sometimes simplest is best, and so we will start by applying logistic regression. Logistic regression makes use of what's called the logistic function to calculate the odds that a given data point belongs to a given class. Once we have both models, we can compare them on a few performance metrics, such as false positive and false negative rate (or how many points are inaccurately classified).*"
      ],
      "metadata": {
        "id": "OsVhR1m01SuK"
      }
    },
    {
      "cell_type": "code",
      "source": [
        "# Import LogisticRegression\n",
        "from sklearn.linear_model import LogisticRegression\n",
        "\n",
        "# Train our logistic regression and predict labels for the test set\n",
        "logreg = LogisticRegression(random_state=10)\n",
        "logreg.fit(train_features, train_labels)\n",
        "pred_labels_logit = logreg.predict(test_features)\n",
        "\n",
        "# Create the classification report for both models\n",
        "from sklearn.metrics import classification_report\n",
        "class_rep_tree = classification_report(test_labels, pred_labels_tree)\n",
        "class_rep_log = classification_report(test_labels, pred_labels_logit)\n",
        "\n",
        "print(\"Decision Tree: \\n\", class_rep_tree)\n",
        "print(\"Logistic Regression: \\n\", class_rep_log)"
      ],
      "metadata": {
        "colab": {
          "base_uri": "https://localhost:8080/"
        },
        "id": "mk-anJCW1J4L",
        "outputId": "2e9f9802-9210-4b82-de53-335373a03797"
      },
      "execution_count": 29,
      "outputs": [
        {
          "output_type": "stream",
          "name": "stdout",
          "text": [
            "Decision Tree: \n",
            "               precision    recall  f1-score   support\n",
            "\n",
            "     Hip-Hop       0.60      0.60      0.60       235\n",
            "        Rock       0.90      0.90      0.90       966\n",
            "\n",
            "    accuracy                           0.84      1201\n",
            "   macro avg       0.75      0.75      0.75      1201\n",
            "weighted avg       0.84      0.84      0.84      1201\n",
            "\n",
            "Logistic Regression: \n",
            "               precision    recall  f1-score   support\n",
            "\n",
            "     Hip-Hop       0.77      0.54      0.64       235\n",
            "        Rock       0.90      0.96      0.93       966\n",
            "\n",
            "    accuracy                           0.88      1201\n",
            "   macro avg       0.83      0.75      0.78      1201\n",
            "weighted avg       0.87      0.88      0.87      1201\n",
            "\n"
          ]
        }
      ]
    }
  ]
}